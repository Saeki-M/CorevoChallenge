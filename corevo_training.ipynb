{
 "cells": [
  {
   "cell_type": "markdown",
   "metadata": {},
   "source": [
    "# 目的\n",
    "音声データのスペクトログラムを入力として、性別および年齢を予測するCNNの学習.  \n",
    "性別予測器と年齢予測器をそれぞれ学習する."
   ]
  },
  {
   "cell_type": "code",
   "execution_count": 1,
   "metadata": {},
   "outputs": [
    {
     "name": "stderr",
     "output_type": "stream",
     "text": [
      "Using TensorFlow backend.\n"
     ]
    }
   ],
   "source": [
    "import warnings\n",
    "warnings.filterwarnings('ignore')\n",
    "\n",
    "import numpy as np\n",
    "import matplotlib.pyplot as plt\n",
    "import cv2\n",
    "\n",
    "from keras.applications.vgg16 import VGG16\n",
    "from keras.models import Sequential, Model\n",
    "import keras.backend as K\n",
    "from keras.layers.convolutional import Conv2D\n",
    "from keras.layers.pooling import MaxPool2D\n",
    "from keras.optimizers import SGD, Adam\n",
    "\n",
    "from keras.layers.core import Dense, Activation, Dropout, Flatten\n",
    "from keras.utils import plot_model\n",
    "from keras.callbacks import TensorBoard\n",
    "from keras import callbacks\n",
    "\n",
    "from keras.utils import np_utils\n",
    "from keras.layers.core import Lambda\n",
    "\n",
    "from keras.utils.vis_utils import model_to_dot\n",
    "from keras import callbacks\n",
    "\n",
    "import tensorflow as tf\n",
    "\n",
    "from keras.models import load_model\n",
    "import pickle\n",
    "\n",
    "from sklearn import preprocessing\n",
    "from keras.utils import np_utils\n",
    "from tqdm import tnrange, tqdm_notebook, tqdm\n",
    "\n",
    "from keras.utils import multi_gpu_model\n",
    "from keras.preprocessing.image import ImageDataGenerator"
   ]
  },
  {
   "cell_type": "markdown",
   "metadata": {},
   "source": [
    "## Load data"
   ]
  },
  {
   "cell_type": "code",
   "execution_count": null,
   "metadata": {},
   "outputs": [],
   "source": [
    "x_train = np.expand_dims(np.load('corevo/features/spectrogram/x_train.npy'), 3)\n",
    "y_train = np.load('corevo/features/spectrogram/y_train.npy')\n",
    "\n",
    "    \n",
    "N, w, h, _ = x_train.shape\n",
    "y_train_hot = np_utils.to_categorical(y_train)\n",
    "\n",
    "label_dict = {'MA_CH':0, 'MA_AD':1, 'MA_EL':2,'FE_CH':3, 'FE_AD':4, 'FE_EL':5}"
   ]
  },
  {
   "cell_type": "markdown",
   "metadata": {},
   "source": [
    "## Build model"
   ]
  },
  {
   "cell_type": "code",
   "execution_count": 3,
   "metadata": {},
   "outputs": [],
   "source": [
    "def get_sex_estimator():\n",
    "    model = Sequential()\n",
    "    model.add(Conv2D(32, (4, 4), strides=(1,1),  input_shape=(w, h, 1), activation='relu', name='first_conv_layer'))\n",
    "    model.add(Conv2D(32, (4, 4), strides=(1, 1), activation='relu'))\n",
    "    model.add(MaxPool2D())\n",
    "    \n",
    "    model.add(Conv2D(32, (4, 4), strides=(1, 1), activation='relu'))\n",
    "    model.add(Conv2D(16, (3, 3), strides=(1, 1), activation='relu', name='last_conv_layer'))\n",
    "    model.add(MaxPool2D())\n",
    "    \n",
    "    model.add(Flatten())\n",
    "    model.add(Dropout(0.1))\n",
    "    model.add(Dense(128, activation='relu'))\n",
    "    model.add(Dense(64, activation='relu'))\n",
    "    model.add(Dense(32, activation='relu'))\n",
    "    model.add(Dense(2, activation='softmax'))\n",
    "    \n",
    "    model.compile(optimizer=Adam(), loss='categorical_crossentropy', metrics=['accuracy'])\n",
    "    \n",
    "    return model\n",
    "\n",
    "def get_age_estimator():\n",
    "    model = Sequential()\n",
    "    model.add(Conv2D(32, (4, 4), strides=(1,1),  input_shape=(w, h, 1), activation='relu', name='first_conv_layer'))\n",
    "    model.add(Conv2D(32, (4, 4), strides=(1, 1), activation='relu'))\n",
    "    model.add(MaxPool2D())\n",
    "    \n",
    "    model.add(Conv2D(32, (4, 4), strides=(1, 1), activation='relu'))\n",
    "    model.add(Conv2D(16, (3, 3), strides=(1, 1), activation='relu', name='last_conv_layer'))\n",
    "    model.add(MaxPool2D())\n",
    "    \n",
    "    model.add(Flatten())\n",
    "    model.add(Dropout(0.1))\n",
    "    model.add(Dense(128, activation='relu'))\n",
    "    model.add(Dense(64, activation='relu'))\n",
    "    model.add(Dense(32, activation='relu'))\n",
    "    model.add(Dense(3, activation='softmax'))\n",
    "    \n",
    "    model.compile(optimizer=Adam(), loss='categorical_crossentropy', metrics=['accuracy'])\n",
    "    \n",
    "    return model\n",
    "\n",
    "sex_estimator = get_sex_estimator()\n",
    "age_estimator = get_age_estimator()"
   ]
  },
  {
   "cell_type": "code",
   "execution_count": 4,
   "metadata": {},
   "outputs": [],
   "source": [
    "# Relable data\n",
    "y_sex = np.where(y_train<3, 0, 1)\n",
    "y_age = y_train % 3"
   ]
  },
  {
   "cell_type": "markdown",
   "metadata": {},
   "source": [
    "## 性別予測器の学習"
   ]
  },
  {
   "cell_type": "code",
   "execution_count": 6,
   "metadata": {},
   "outputs": [
    {
     "name": "stdout",
     "output_type": "stream",
     "text": [
      "Train on 158838 samples, validate on 8360 samples\n",
      "Epoch 1/10\n",
      "158838/158838 [==============================] - 46s 289us/step - loss: 0.6409 - acc: 0.6036 - val_loss: 0.5451 - val_acc: 0.7079\n",
      "Epoch 2/10\n",
      "158838/158838 [==============================] - 40s 249us/step - loss: 0.4843 - acc: 0.7521 - val_loss: 0.4405 - val_acc: 0.7712\n",
      "Epoch 3/10\n",
      "158838/158838 [==============================] - 40s 249us/step - loss: 0.4107 - acc: 0.7968 - val_loss: 0.4234 - val_acc: 0.7854\n",
      "Epoch 4/10\n",
      "158838/158838 [==============================] - 40s 249us/step - loss: 0.3626 - acc: 0.8244 - val_loss: 0.4015 - val_acc: 0.8050\n",
      "Epoch 5/10\n",
      "158838/158838 [==============================] - 39s 248us/step - loss: 0.3272 - acc: 0.8444 - val_loss: 0.4038 - val_acc: 0.8141\n"
     ]
    },
    {
     "data": {
      "text/plain": [
       "<keras.callbacks.History at 0x2ae1dc493be0>"
      ]
     },
     "execution_count": 6,
     "metadata": {},
     "output_type": "execute_result"
    }
   ],
   "source": [
    "es_cb = callbacks.EarlyStopping(monitor='val_loss', patience=1, verbose=0, mode='auto')\n",
    "sex_estimator.fit(x_train,np_utils.to_categorical(y_sex,2), batch_size=128,epochs=10, validation_split=0.05, callbacks=[es_cb])"
   ]
  },
  {
   "cell_type": "code",
   "execution_count": 7,
   "metadata": {},
   "outputs": [],
   "source": [
    "# save model\n",
    "sex_estimator.save('models/sex_estimator.h5')"
   ]
  },
  {
   "cell_type": "markdown",
   "metadata": {},
   "source": [
    "## 年齢予測器の学習"
   ]
  },
  {
   "cell_type": "code",
   "execution_count": 9,
   "metadata": {},
   "outputs": [
    {
     "name": "stdout",
     "output_type": "stream",
     "text": [
      "Train on 158838 samples, validate on 8360 samples\n",
      "Epoch 1/20\n",
      "158838/158838 [==============================] - 40s 249us/step - loss: 0.2927 - acc: 0.8800 - val_loss: 0.5279 - val_acc: 0.8077\n",
      "Epoch 2/20\n",
      "158838/158838 [==============================] - 40s 249us/step - loss: 0.2758 - acc: 0.8890 - val_loss: 0.5550 - val_acc: 0.8132\n",
      "Epoch 3/20\n",
      "158838/158838 [==============================] - 40s 250us/step - loss: 0.2591 - acc: 0.8963 - val_loss: 0.5458 - val_acc: 0.8150\n"
     ]
    }
   ],
   "source": [
    "es_cb = callbacks.EarlyStopping(monitor='val_loss', patience=2, verbose=0, mode='auto')\n",
    "age_estimator.fit(x_train,np_utils.to_categorical(y_age,3), batch_size=128,epochs=20, validation_split=0.05, callbacks=[es_cb])\n",
    "# save model\n",
    "age_estimator.save('models/age_estimator.h5')"
   ]
  },
  {
   "cell_type": "markdown",
   "metadata": {},
   "source": [
    "## Validate model"
   ]
  },
  {
   "cell_type": "code",
   "execution_count": 15,
   "metadata": {},
   "outputs": [
    {
     "name": "stderr",
     "output_type": "stream",
     "text": [
      "100%|██████████| 1891/1891 [00:26<00:00, 71.32it/s]"
     ]
    },
    {
     "name": "stdout",
     "output_type": "stream",
     "text": [
      "accuracy: 1513/1891 - 80.01057641459545%\n"
     ]
    },
    {
     "name": "stderr",
     "output_type": "stream",
     "text": [
      "\n"
     ]
    }
   ],
   "source": [
    "sex_estimator = load_model('models/sex_estimator.h5')\n",
    "age_estimator = load_model('models/age_estimator.h5')\n",
    "\n",
    "with open('corevo/features/spectrogram/validation.pkl', mode='rb') as f:\n",
    "    validation = pickle.load(f)\n",
    "\n",
    "n = len(validation)\n",
    "ans = []\n",
    "score = 0\n",
    "confusion = np.zeros((6,6))\n",
    "\n",
    "for cases, label_true in tqdm(validation):\n",
    "    predicts = np.zeros(6)\n",
    "    \n",
    "    for case in cases:\n",
    "        x = case.reshape(1, 128, 94, 1)\n",
    "        \n",
    "        pred_sex = sex_estimator.predict(x)\n",
    "        pred_age = age_estimator.predict(x)\n",
    "        \n",
    "        pred_arg_sex = np.argmax(pred_sex)\n",
    "        pred_arg_age = np.argmax(pred_age)\n",
    "        \n",
    "        label_pred = pred_arg_sex * 3 + pred_arg_age\n",
    "\n",
    "        predicts[label_pred] += 1\n",
    "        \n",
    "    label_pred_final = np.argmax(predicts)\n",
    "    \n",
    "    # evaluate\n",
    "    if label_pred_final == label_true:\n",
    "        score += 1\n",
    "        \n",
    "    confusion[label_true, label_pred_final] += 1\n",
    "    \n",
    "#  compute validation accuracy\n",
    "print(f'accuracy: {score}/{n} - {score/n*100}%' )"
   ]
  },
  {
   "cell_type": "markdown",
   "metadata": {},
   "source": [
    "# Predict on test data\n",
    "## Load test data"
   ]
  },
  {
   "cell_type": "code",
   "execution_count": 9,
   "metadata": {},
   "outputs": [],
   "source": [
    "with open('corevo/features/spectrogram/test.pkl', mode='rb') as f:\n",
    "    f_names, test_data = pickle.load(f)\n",
    "\n",
    "sex_estimator = load_model('models/sex_estimator.h5')\n",
    "age_estimator = load_model('models/age_estimator.h5')\n",
    "\n",
    "n = len(test_data)\n",
    "\n",
    "# label_sex = ['MA', 'FE']\n",
    "# label_age = ['CH', 'AD', 'EL']\n",
    "label_dict = {'MA_CH':0, 'MA_AD':1, 'MA_EL':2,'FE_CH':3, 'FE_AD':4, 'FE_EL':5}"
   ]
  },
  {
   "cell_type": "markdown",
   "metadata": {},
   "source": [
    "## Creat prediction result for submission"
   ]
  },
  {
   "cell_type": "code",
   "execution_count": 12,
   "metadata": {},
   "outputs": [
    {
     "name": "stderr",
     "output_type": "stream",
     "text": [
      "100%|██████████| 17888/17888 [03:22<00:00, 88.43it/s]\n"
     ]
    }
   ],
   "source": [
    "ans = []\n",
    "\n",
    "for cases in tqdm(test_data):\n",
    "    predicts = np.zeros(6)\n",
    "\n",
    "    for case in cases:\n",
    "        x = case.reshape(1, 128, 94, 1)\n",
    "        \n",
    "        pred_sex = sex_estimator.predict(x)\n",
    "        pred_age = age_estimator.predict(x)\n",
    "        \n",
    "        pred_arg_sex = np.argmax(pred_sex)\n",
    "        pred_arg_age = np.argmax(pred_age)\n",
    "        \n",
    "        \n",
    "        label_pred = pred_arg_sex * 3 + pred_arg_age\n",
    "\n",
    "        predicts[label_pred] += 1\n",
    "        \n",
    "    label_pred_final = np.argmax(predicts)\n",
    "    pred_final_str = list(label_dict.keys())[label_pred_final]\n",
    "    \n",
    "    ans.append(pred_final_str)  \n",
    "    \n",
    "ans = np.array(ans)\n",
    "f_names = np.array([f[:-4] for f in f_names])\n",
    "\n",
    "out = np.vstack((f_names, ans)).T\n",
    "\n",
    "np.savetxt('submit_0121_1616.tsv', out, fmt='%s', delimiter='\\t')"
   ]
  },
  {
   "cell_type": "code",
   "execution_count": null,
   "metadata": {},
   "outputs": [],
   "source": []
  }
 ],
 "metadata": {
  "kernelspec": {
   "display_name": "gpu (conda)",
   "language": "python",
   "name": "gpu"
  },
  "language_info": {
   "codemirror_mode": {
    "name": "ipython",
    "version": 3
   },
   "file_extension": ".py",
   "mimetype": "text/x-python",
   "name": "python",
   "nbconvert_exporter": "python",
   "pygments_lexer": "ipython3",
   "version": "3.6.6"
  }
 },
 "nbformat": 4,
 "nbformat_minor": 2
}
